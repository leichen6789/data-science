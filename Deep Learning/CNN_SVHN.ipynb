{
 "cells": [
  {
   "cell_type": "markdown",
   "metadata": {
    "id": "Q91KqmCRu64D"
   },
   "source": [
    "# Convolutional Neural Networks: Street View Housing Number Digit Recognition\n",
    "\n",
    "### Context: \n",
    "\n",
    "The Street View House Numbers (SVHN) dataset is one of the most popular ones. It has been used in neural networks created by Google to read house numbers and match them to their geolocations. This is a great benchmark dataset to play with, learn and train models that accurately identify street numbers, and incorporate into all sorts of projects.\n",
    "\n",
    "### Objective:\n",
    "The objective of the exercise is to perform an image classification exercise on the given dataset to come up with a model that can help identify the digit images which have issues like picture brightness, blurriness. \n",
    "\n"
   ]
  },
  {
   "cell_type": "code",
   "execution_count": 1,
   "metadata": {
    "colab": {
     "base_uri": "https://localhost:8080/"
    },
    "id": "W5as47YxyJVk",
    "outputId": "1ac9fddd-c6e5-4b81-818b-dc6e2de011aa"
   },
   "outputs": [
    {
     "name": "stdout",
     "output_type": "stream",
     "text": [
      "2.4.0\n"
     ]
    }
   ],
   "source": [
    "import tensorflow as tf\n",
    "print(tf.__version__)"
   ]
  },
  {
   "cell_type": "code",
   "execution_count": 2,
   "metadata": {
    "id": "BApX9qgNsqV0",
    "scrolled": true
   },
   "outputs": [],
   "source": [
    "import h5py\n",
    "import numpy as np\n",
    "\n",
    "h5f = h5py.File('SVHN_single_grey1.h5', 'r')\n",
    "\n",
    "# Load the training and the test set\n",
    "X_train = h5f['X_train'][:]\n",
    "y_train1 = h5f['y_train'][:]\n",
    "X_test = h5f['X_test'][:]\n",
    "y_test1 = h5f['y_test'][:]\n",
    "\n",
    "# Close this file\n",
    "h5f.close()"
   ]
  },
  {
   "cell_type": "code",
   "execution_count": 3,
   "metadata": {
    "id": "aTeAO8HpsqV8"
   },
   "outputs": [],
   "source": [
    "from tensorflow.keras.datasets import mnist\n",
    "from tensorflow.keras.models import Sequential\n",
    "from tensorflow.keras.layers import Dense, Conv2D, MaxPooling2D, BatchNormalization, Dropout, Flatten, LeakyReLU\n",
    "from tensorflow.keras.utils import to_categorical\n",
    "\n",
    "# fix random seed for reproducibility\n",
    "seed = 7\n",
    "np.random.seed(seed)"
   ]
  },
  {
   "cell_type": "code",
   "execution_count": 4,
   "metadata": {
    "colab": {
     "base_uri": "https://localhost:8080/",
     "height": 87
    },
    "id": "Bvsc8ytHsqWD",
    "outputId": "ae1d0830-9ae8-435f-d7e2-f71f294bb8df"
   },
   "outputs": [
    {
     "data": {
      "image/png": "[encoded data removed]",
      "text/plain": [
       "<Figure size 576x576 with 10 Axes>"
      ]
     },
     "metadata": {
      "needs_background": "light"
     },
     "output_type": "display_data"
    },
    {
     "name": "stdout",
     "output_type": "stream",
     "text": [
      "label for each of the above image: [2 6 7 4 4 0 3 0 7 3]\n"
     ]
    }
   ],
   "source": [
    "# visualizing the first 10 images in the dataset and their labels\n",
    "\n",
    "%matplotlib inline\n",
    "import matplotlib.pyplot as plt\n",
    "plt.figure(figsize=(8, 8))\n",
    "for i in range(10):\n",
    "    plt.subplot(1, 10, i+1)\n",
    "    plt.imshow(X_train[i], cmap=\"gray\")\n",
    "    plt.axis('off')\n",
    "plt.show()\n",
    "print('label for each of the above image: %s' % (y_train1[0:10]))"
   ]
  },
  {
   "cell_type": "code",
   "execution_count": 5,
   "metadata": {
    "colab": {
     "base_uri": "https://localhost:8080/"
    },
    "id": "NqndzQXng9rL",
    "outputId": "5baeb349-77d3-4362-e829-f685c99ce79a"
   },
   "outputs": [
    {
     "name": "stdout",
     "output_type": "stream",
     "text": [
      "Shape: (32, 32)\n",
      "\n",
      "First image:\n",
      " [[ 33.0704  30.2601  26.852  ...  71.4471  58.2204  42.9939]\n",
      " [ 25.2283  25.5533  29.9765 ... 113.0209 103.3639  84.2949]\n",
      " [ 26.2775  22.6137  40.4763 ... 113.3028 121.775  115.4228]\n",
      " ...\n",
      " [ 28.5502  36.212   45.0801 ...  24.1359  25.0927  26.0603]\n",
      " [ 38.4352  26.4733  23.2717 ...  28.1094  29.4683  30.0661]\n",
      " [ 50.2984  26.0773  24.0389 ...  49.6682  50.853   53.0377]]\n"
     ]
    }
   ],
   "source": [
    "# Find out shape of the images\n",
    "print(\"Shape:\", X_train[0].shape)\n",
    "print()\n",
    "print(\"First image:\\n\", X_train[0])"
   ]
  },
  {
   "cell_type": "code",
   "execution_count": 6,
   "metadata": {
    "id": "D9YPwf9ysqWU"
   },
   "outputs": [],
   "source": [
    "# Reshaping the dataset from 2D into a 3D data where there is just one channel\n",
    "X_train = X_train.reshape(X_train.shape[0], 32, 32, 1)\n",
    "X_test = X_test.reshape(X_test.shape[0], 32, 32, 1)"
   ]
  },
  {
   "cell_type": "code",
   "execution_count": 7,
   "metadata": {
    "id": "q_yUUTp_mUzB"
   },
   "outputs": [],
   "source": [
    "# Normalize inputs from 0-255 to 0-1\n",
    "X_train = X_train.astype('float32')/255\n",
    "X_test = X_test.astype('float32')/255"
   ]
  },
  {
   "cell_type": "code",
   "execution_count": 8,
   "metadata": {
    "colab": {
     "base_uri": "https://localhost:8080/"
    },
    "id": "t7FSqOpamWkH",
    "outputId": "a0d4793a-ad29-4044-f539-c6accfd38f22"
   },
   "outputs": [
    {
     "name": "stdout",
     "output_type": "stream",
     "text": [
      "Training set: (42000, 32, 32, 1) (42000,)\n",
      "Test set: (18000, 32, 32, 1) (18000,)\n"
     ]
    }
   ],
   "source": [
    "# New shape \n",
    "print('Training set:', X_train.shape, y_train1.shape)\n",
    "print('Test set:', X_test.shape, y_test1.shape)"
   ]
  },
  {
   "cell_type": "code",
   "execution_count": 9,
   "metadata": {
    "id": "zL0lYER4sqWw"
   },
   "outputs": [],
   "source": [
    "# one hot encode output\n",
    "y_train = tf.keras.utils.to_categorical(y_train1)\n",
    "y_test = tf.keras.utils.to_categorical(y_test1)"
   ]
  },
  {
   "cell_type": "code",
   "execution_count": 10,
   "metadata": {
    "id": "Cmi81Gr5sqW-"
   },
   "outputs": [],
   "source": [
    "# define model\n",
    "from tensorflow.keras import losses\n",
    "from tensorflow.keras import optimizers\n",
    "\n",
    "def cnn_model_1():\n",
    "    model_1 = Sequential()\n",
    "    # Two convolution layers and pooling layer\n",
    "    # First Convolutional layer with 16 filters and kernel size =3. Use the 'same' padding and provide apt input shape.\n",
    "    model_1.add(Conv2D(filters=16, kernel_size=(3, 3), padding='same', input_shape=(32,32,1)))\n",
    "\n",
    "    # Add a leaky relu layer next with the value 0.1 \n",
    "    model_1.add(LeakyReLU(alpha=0.1))\n",
    "\n",
    "    # First Convolutional layer with 32 filters and kernel size =3. Use the 'same' padding\n",
    "    model_1.add(Conv2D(filters=32, kernel_size=(3, 3), padding='same'))\n",
    "\n",
    "    # Another leakyRelu same as above\n",
    "    model_1.add(LeakyReLU(alpha=0.1))\n",
    "\n",
    "    # A maxpooling layer with pool size of 2\n",
    "    model_1.add(MaxPooling2D(pool_size=(2, 2)))\n",
    "\n",
    "    # Flattening the model and making room for the fully connected component\n",
    "    model_1.add(Flatten())\n",
    "\n",
    "    # Add a dense layer with 32 nodes\n",
    "    model_1.add(Dense(32))\n",
    "\n",
    "    # Add a leakyRelu layer with slope(0.1)\n",
    "    model_1.add(LeakyReLU(alpha=0.1))\n",
    "\n",
    "    # Add the final output layer with nodes equal to the number of classes and softmax activation\n",
    "    model_1.add(Dense(10, activation='softmax'))\n",
    "\n",
    "    # Compile the model with the categorical_crossentropy loss, adam optmizers (lr = 0.001) and accuracy metric\n",
    "    adam = tf.keras.optimizers.Adam(lr=1e-3)\n",
    "    model_1.compile(loss='categorical_crossentropy', optimizer=adam, metrics=['accuracy'])\n",
    "    return model_1"
   ]
  },
  {
   "cell_type": "code",
   "execution_count": 11,
   "metadata": {
    "colab": {
     "base_uri": "https://localhost:8080/"
    },
    "id": "tiOOOyHkhQH_",
    "outputId": "9bf64e6d-da1e-4f52-c2c4-6c8368b710f4"
   },
   "outputs": [
    {
     "name": "stdout",
     "output_type": "stream",
     "text": [
      "Model: \"sequential\"\n",
      "_________________________________________________________________\n",
      "Layer (type)                 Output Shape              Param #   \n",
      "=================================================================\n",
      "conv2d (Conv2D)              (None, 32, 32, 16)        160       \n",
      "_________________________________________________________________\n",
      "leaky_re_lu (LeakyReLU)      (None, 32, 32, 16)        0         \n",
      "_________________________________________________________________\n",
      "conv2d_1 (Conv2D)            (None, 32, 32, 32)        4640      \n",
      "_________________________________________________________________\n",
      "leaky_re_lu_1 (LeakyReLU)    (None, 32, 32, 32)        0         \n",
      "_________________________________________________________________\n",
      "max_pooling2d (MaxPooling2D) (None, 16, 16, 32)        0         \n",
      "_________________________________________________________________\n",
      "flatten (Flatten)            (None, 8192)              0         \n",
      "_________________________________________________________________\n",
      "dense (Dense)                (None, 32)                262176    \n",
      "_________________________________________________________________\n",
      "leaky_re_lu_2 (LeakyReLU)    (None, 32)                0         \n",
      "_________________________________________________________________\n",
      "dense_1 (Dense)              (None, 10)                330       \n",
      "=================================================================\n",
      "Total params: 267,306\n",
      "Trainable params: 267,306\n",
      "Non-trainable params: 0\n",
      "_________________________________________________________________\n"
     ]
    }
   ],
   "source": [
    "# Call the function and print the model summary\n",
    "model_1 = cnn_model_1()\n",
    "model_1.summary()"
   ]
  },
  {
   "cell_type": "code",
   "execution_count": 12,
   "metadata": {
    "colab": {
     "base_uri": "https://localhost:8080/"
    },
    "id": "bGCUI_xsImnH",
    "outputId": "af4e374f-96d9-480a-8653-52cabdf0563e"
   },
   "outputs": [
    {
     "name": "stdout",
     "output_type": "stream",
     "text": [
      "Epoch 1/20\n",
      "1050/1050 [==============================] - 31s 29ms/step - loss: 1.6746 - accuracy: 0.4074 - val_loss: 0.6315 - val_accuracy: 0.8193\n",
      "Epoch 2/20\n",
      "1050/1050 [==============================] - 33s 32ms/step - loss: 0.5600 - accuracy: 0.8379 - val_loss: 0.5297 - val_accuracy: 0.8548\n",
      "Epoch 3/20\n",
      "1050/1050 [==============================] - 34s 32ms/step - loss: 0.4614 - accuracy: 0.8659 - val_loss: 0.4931 - val_accuracy: 0.8648\n",
      "Epoch 4/20\n",
      "1050/1050 [==============================] - 35s 33ms/step - loss: 0.3877 - accuracy: 0.8863 - val_loss: 0.4747 - val_accuracy: 0.8645\n",
      "Epoch 5/20\n",
      "1050/1050 [==============================] - 34s 33ms/step - loss: 0.3462 - accuracy: 0.8961 - val_loss: 0.4660 - val_accuracy: 0.8662\n",
      "Epoch 6/20\n",
      "1050/1050 [==============================] - 34s 32ms/step - loss: 0.3036 - accuracy: 0.9085 - val_loss: 0.4673 - val_accuracy: 0.8738\n",
      "Epoch 7/20\n",
      "1050/1050 [==============================] - 34s 32ms/step - loss: 0.2680 - accuracy: 0.9200 - val_loss: 0.4870 - val_accuracy: 0.8677\n",
      "Epoch 8/20\n",
      "1050/1050 [==============================] - 35s 33ms/step - loss: 0.2440 - accuracy: 0.9294 - val_loss: 0.4759 - val_accuracy: 0.8720\n",
      "Epoch 9/20\n",
      "1050/1050 [==============================] - 35s 34ms/step - loss: 0.2079 - accuracy: 0.9347 - val_loss: 0.4811 - val_accuracy: 0.8743\n",
      "Epoch 10/20\n",
      "1050/1050 [==============================] - 35s 34ms/step - loss: 0.1880 - accuracy: 0.9420 - val_loss: 0.5210 - val_accuracy: 0.8719\n",
      "Epoch 11/20\n",
      "1050/1050 [==============================] - 36s 34ms/step - loss: 0.1697 - accuracy: 0.9498 - val_loss: 0.5437 - val_accuracy: 0.8683\n",
      "Epoch 12/20\n",
      "1050/1050 [==============================] - 37s 35ms/step - loss: 0.1603 - accuracy: 0.9518 - val_loss: 0.5740 - val_accuracy: 0.8664\n",
      "Epoch 13/20\n",
      "1050/1050 [==============================] - 36s 35ms/step - loss: 0.1323 - accuracy: 0.9592 - val_loss: 0.5824 - val_accuracy: 0.8715\n",
      "Epoch 14/20\n",
      "1050/1050 [==============================] - 37s 35ms/step - loss: 0.1268 - accuracy: 0.9605 - val_loss: 0.6239 - val_accuracy: 0.8731\n",
      "Epoch 15/20\n",
      "1050/1050 [==============================] - 37s 35ms/step - loss: 0.1083 - accuracy: 0.9665 - val_loss: 0.6561 - val_accuracy: 0.8651\n",
      "Epoch 16/20\n",
      "1050/1050 [==============================] - 37s 35ms/step - loss: 0.0978 - accuracy: 0.9693 - val_loss: 0.6922 - val_accuracy: 0.8685\n",
      "Epoch 17/20\n",
      "1050/1050 [==============================] - 38s 36ms/step - loss: 0.0934 - accuracy: 0.9707 - val_loss: 0.7404 - val_accuracy: 0.8589\n",
      "Epoch 18/20\n",
      "1050/1050 [==============================] - 38s 36ms/step - loss: 0.0900 - accuracy: 0.9714 - val_loss: 0.7310 - val_accuracy: 0.8698\n",
      "Epoch 19/20\n",
      "1050/1050 [==============================] - 38s 36ms/step - loss: 0.0693 - accuracy: 0.9789 - val_loss: 0.7660 - val_accuracy: 0.8640\n",
      "Epoch 20/20\n",
      "1050/1050 [==============================] - 37s 36ms/step - loss: 0.0775 - accuracy: 0.9755 - val_loss: 0.7983 - val_accuracy: 0.8674\n"
     ]
    }
   ],
   "source": [
    "# Fit the model and save the history\n",
    "history_model_1 = model_1.fit (X_train, y_train, validation_split=0.2, verbose=1, epochs=20, batch_size=32)"
   ]
  },
  {
   "cell_type": "code",
   "execution_count": 13,
   "metadata": {
    "colab": {
     "base_uri": "https://localhost:8080/",
     "height": 497
    },
    "id": "lt77zgGMP4yw",
    "outputId": "5138650a-215e-46c6-f39b-e2589819e108"
   },
   "outputs": [
    {
     "data": {
      "image/png": "[encoded data removed]",
      "text/plain": [
       "<Figure size 576x576 with 1 Axes>"
      ]
     },
     "metadata": {
      "needs_background": "light"
     },
     "output_type": "display_data"
    }
   ],
   "source": [
    "# plotting the accuracies\n",
    "\n",
    "dict_hist = history_model_1.history\n",
    "list_ep = [i for i in range(1,21)]\n",
    "\n",
    "plt.figure(figsize = (8,8))\n",
    "plt.plot(list_ep,dict_hist['accuracy'])\n",
    "plt.plot(list_ep,dict_hist['val_accuracy'])\n",
    "plt.ylabel('Accuracy')\n",
    "plt.xlabel('Epochs')\n",
    "plt.legend(['Train', 'Test'], loc='upper left')\n",
    "plt.show()"
   ]
  },
  {
   "cell_type": "code",
   "execution_count": 14,
   "metadata": {
    "id": "wQtMWG4znKS0"
   },
   "outputs": [],
   "source": [
    "# The accuracy for train set is very hight. \n",
    "# The variance between train and validation is high too. \n",
    "# It suggests an over-fitting, so need to adjust the model\n",
    "def cnn_model_2():\n",
    "    # initialized a sequential model\n",
    "    model_2 = Sequential()\n",
    "\n",
    "    # Two convolution layers and pooling layer\n",
    "    # First Convolutional layer with 16 filters and kernel size =3. Use the 'same' padding and provide apt input shape.\n",
    "    model_2.add(Conv2D(filters=16, kernel_size=(3, 3), padding='same', input_shape=(32,32, 1)))\n",
    "\n",
    "    # Add a leaky relu layer next with the value 0.1 \n",
    "    model_2.add(LeakyReLU(alpha=0.1))\n",
    "\n",
    "    # adding dropout to randomly switch off 20% neurons to reduce overfitting\n",
    "    model_2.add(Dropout(0.2))\n",
    "\n",
    "    # First Convolutional layer with 32 filters and kernel size =3. Use the 'same' padding\n",
    "    model_2.add(Conv2D(filters=32, kernel_size=(3, 3), padding='same'))\n",
    "\n",
    "    # Another leakyRelu same as above\n",
    "    model_2.add(LeakyReLU(alpha=0.1))\n",
    "\n",
    "    # adding dropout to randomly switch off 20% neurons to reduce overfitting\n",
    "    model_2.add(Dropout(0.2))\n",
    "\n",
    "    # A maxpooling layer with pool size of 2\n",
    "    model_2.add(MaxPooling2D(pool_size=(2, 2)))\n",
    "\n",
    "    # Flattening the model and making room for the fully connected component\n",
    "    model_2.add(Flatten())\n",
    "\n",
    "    # Add a dense layer with 32 nodes\n",
    "    model_2.add(Dense(32))\n",
    "\n",
    "    # Add a leakyRelu layer with slope(0.1)\n",
    "    model_2.add(LeakyReLU(alpha=0.1))\n",
    "\n",
    "    # adding dropout to randomly switch off 50% neurons to reduce overfitting\n",
    "    model_2.add(Dropout(0.5))\n",
    "\n",
    "    # Add the final output layer with nodes equal to the number of classes and softmax activation\n",
    "    model_2.add(Dense(10, activation='softmax'))\n",
    "\n",
    "    # Compile the model with the categorical_crossentropy loss, adam optmizers (lr = 0.001) and accuracy metric\n",
    "    adam = tf.keras.optimizers.Adam(lr=1e-3)\n",
    "    model_2.compile(loss='categorical_crossentropy', optimizer=adam, metrics=['accuracy'])\n",
    "    return model_2"
   ]
  },
  {
   "cell_type": "code",
   "execution_count": 15,
   "metadata": {
    "colab": {
     "base_uri": "https://localhost:8080/"
    },
    "id": "cu2ydBfHnlx1",
    "outputId": "ac171c37-5731-480c-e0c6-cd976c37e582"
   },
   "outputs": [
    {
     "name": "stdout",
     "output_type": "stream",
     "text": [
      "Model: \"sequential_1\"\n",
      "_________________________________________________________________\n",
      "Layer (type)                 Output Shape              Param #   \n",
      "=================================================================\n",
      "conv2d_2 (Conv2D)            (None, 32, 32, 16)        160       \n",
      "_________________________________________________________________\n",
      "leaky_re_lu_3 (LeakyReLU)    (None, 32, 32, 16)        0         \n",
      "_________________________________________________________________\n",
      "dropout (Dropout)            (None, 32, 32, 16)        0         \n",
      "_________________________________________________________________\n",
      "conv2d_3 (Conv2D)            (None, 32, 32, 32)        4640      \n",
      "_________________________________________________________________\n",
      "leaky_re_lu_4 (LeakyReLU)    (None, 32, 32, 32)        0         \n",
      "_________________________________________________________________\n",
      "dropout_1 (Dropout)          (None, 32, 32, 32)        0         \n",
      "_________________________________________________________________\n",
      "max_pooling2d_1 (MaxPooling2 (None, 16, 16, 32)        0         \n",
      "_________________________________________________________________\n",
      "flatten_1 (Flatten)          (None, 8192)              0         \n",
      "_________________________________________________________________\n",
      "dense_2 (Dense)              (None, 32)                262176    \n",
      "_________________________________________________________________\n",
      "leaky_re_lu_5 (LeakyReLU)    (None, 32)                0         \n",
      "_________________________________________________________________\n",
      "dropout_2 (Dropout)          (None, 32)                0         \n",
      "_________________________________________________________________\n",
      "dense_3 (Dense)              (None, 10)                330       \n",
      "=================================================================\n",
      "Total params: 267,306\n",
      "Trainable params: 267,306\n",
      "Non-trainable params: 0\n",
      "_________________________________________________________________\n"
     ]
    }
   ],
   "source": [
    "#Call the function and print model summary\n",
    "model_2 = cnn_model_2()\n",
    "model_2.summary()"
   ]
  },
  {
   "cell_type": "code",
   "execution_count": 16,
   "metadata": {
    "colab": {
     "base_uri": "https://localhost:8080/"
    },
    "id": "3x_GZq2-n-QO",
    "outputId": "fbae51a6-d72b-4f36-a4cc-b81fcf8c54d5",
    "scrolled": true
   },
   "outputs": [
    {
     "name": "stdout",
     "output_type": "stream",
     "text": [
      "Epoch 1/20\n",
      "1050/1050 [==============================] - 54s 51ms/step - loss: 1.8511 - accuracy: 0.3240 - val_loss: 0.6656 - val_accuracy: 0.8143\n",
      "Epoch 2/20\n",
      "1050/1050 [==============================] - 54s 51ms/step - loss: 0.8454 - accuracy: 0.7365 - val_loss: 0.5675 - val_accuracy: 0.8342\n",
      "Epoch 3/20\n",
      "1050/1050 [==============================] - 53s 50ms/step - loss: 0.7141 - accuracy: 0.7801 - val_loss: 0.5199 - val_accuracy: 0.8464\n",
      "Epoch 4/20\n",
      "1050/1050 [==============================] - 53s 50ms/step - loss: 0.6542 - accuracy: 0.7951 - val_loss: 0.4756 - val_accuracy: 0.8574\n",
      "Epoch 5/20\n",
      "1050/1050 [==============================] - 51s 48ms/step - loss: 0.6356 - accuracy: 0.8012 - val_loss: 0.4941 - val_accuracy: 0.8502\n",
      "Epoch 6/20\n",
      "1050/1050 [==============================] - 51s 49ms/step - loss: 0.6061 - accuracy: 0.8099 - val_loss: 0.5012 - val_accuracy: 0.8538\n",
      "Epoch 7/20\n",
      "1050/1050 [==============================] - 50s 47ms/step - loss: 0.5697 - accuracy: 0.8202 - val_loss: 0.4755 - val_accuracy: 0.8627\n",
      "Epoch 8/20\n",
      "1050/1050 [==============================] - 50s 48ms/step - loss: 0.5510 - accuracy: 0.8245 - val_loss: 0.5053 - val_accuracy: 0.8513\n",
      "Epoch 9/20\n",
      "1050/1050 [==============================] - 51s 49ms/step - loss: 0.5399 - accuracy: 0.8315 - val_loss: 0.4671 - val_accuracy: 0.8648\n",
      "Epoch 10/20\n",
      "1050/1050 [==============================] - 50s 48ms/step - loss: 0.5232 - accuracy: 0.8335 - val_loss: 0.4758 - val_accuracy: 0.8623\n",
      "Epoch 11/20\n",
      "1050/1050 [==============================] - 50s 48ms/step - loss: 0.5201 - accuracy: 0.8348 - val_loss: 0.4807 - val_accuracy: 0.8610\n",
      "Epoch 12/20\n",
      "1050/1050 [==============================] - 49s 47ms/step - loss: 0.4943 - accuracy: 0.8425 - val_loss: 0.4549 - val_accuracy: 0.8676\n",
      "Epoch 13/20\n",
      "1050/1050 [==============================] - 50s 47ms/step - loss: 0.4850 - accuracy: 0.8462 - val_loss: 0.4683 - val_accuracy: 0.8623\n",
      "Epoch 14/20\n",
      "1050/1050 [==============================] - 52s 50ms/step - loss: 0.4800 - accuracy: 0.8463 - val_loss: 0.4562 - val_accuracy: 0.8694\n",
      "Epoch 15/20\n",
      "1050/1050 [==============================] - 53s 51ms/step - loss: 0.4706 - accuracy: 0.8482 - val_loss: 0.5040 - val_accuracy: 0.8565\n",
      "Epoch 16/20\n",
      "1050/1050 [==============================] - 53s 51ms/step - loss: 0.4665 - accuracy: 0.8509 - val_loss: 0.4684 - val_accuracy: 0.8687\n",
      "Epoch 17/20\n",
      "1050/1050 [==============================] - 53s 50ms/step - loss: 0.4576 - accuracy: 0.8523 - val_loss: 0.4668 - val_accuracy: 0.8673\n",
      "Epoch 18/20\n",
      "1050/1050 [==============================] - 53s 51ms/step - loss: 0.4612 - accuracy: 0.8546 - val_loss: 0.4528 - val_accuracy: 0.8729\n",
      "Epoch 19/20\n",
      "1050/1050 [==============================] - 53s 50ms/step - loss: 0.4418 - accuracy: 0.8564 - val_loss: 0.4681 - val_accuracy: 0.8658\n",
      "Epoch 20/20\n",
      "1050/1050 [==============================] - 53s 50ms/step - loss: 0.4453 - accuracy: 0.8555 - val_loss: 0.4717 - val_accuracy: 0.8689\n"
     ]
    }
   ],
   "source": [
    "# Fit the model\n",
    "history_model_2 = model_2.fit(X_train, y_train, validation_split=0.2, verbose=1, epochs=20, batch_size=32)"
   ]
  },
  {
   "cell_type": "code",
   "execution_count": 17,
   "metadata": {
    "colab": {
     "base_uri": "https://localhost:8080/",
     "height": 497
    },
    "id": "RjYchTv2pnsW",
    "outputId": "c8116cc9-d0c9-481d-9166-bc711e1f6411"
   },
   "outputs": [
    {
     "data": {
      "image/png": "[encoded data removed]",
      "text/plain": [
       "<Figure size 576x576 with 1 Axes>"
      ]
     },
     "metadata": {
      "needs_background": "light"
     },
     "output_type": "display_data"
    }
   ],
   "source": [
    "# plotting the accuracies\n",
    "dict_hist = history_model_2.history\n",
    "list_ep = [i for i in range(1,21)]\n",
    "\n",
    "plt.figure(figsize = (8,8))\n",
    "plt.plot(list_ep,dict_hist['accuracy'])\n",
    "plt.plot(list_ep,dict_hist['val_accuracy'])\n",
    "plt.ylabel('Accuracy')\n",
    "plt.xlabel('Epochs')\n",
    "plt.legend(['Train', 'Test'], loc='upper left')\n",
    "plt.show()"
   ]
  },
  {
   "cell_type": "code",
   "execution_count": 18,
   "metadata": {
    "colab": {
     "base_uri": "https://localhost:8080/"
    },
    "id": "xRddeJ-3EHT1",
    "outputId": "b5d87578-7e3f-42f3-9dbc-4fa6704e44e5"
   },
   "outputs": [
    {
     "name": "stdout",
     "output_type": "stream",
     "text": [
      "              precision    recall  f1-score   support\n",
      "\n",
      "           0       0.91      0.89      0.90      1814\n",
      "           1       0.75      0.94      0.84      1828\n",
      "           2       0.88      0.90      0.89      1803\n",
      "           3       0.82      0.80      0.81      1719\n",
      "           4       0.91      0.89      0.90      1812\n",
      "           5       0.85      0.87      0.86      1768\n",
      "           6       0.89      0.83      0.86      1832\n",
      "           7       0.91      0.89      0.90      1808\n",
      "           8       0.88      0.81      0.84      1812\n",
      "           9       0.90      0.84      0.87      1804\n",
      "\n",
      "    accuracy                           0.87     18000\n",
      "   macro avg       0.87      0.87      0.87     18000\n",
      "weighted avg       0.87      0.87      0.87     18000\n",
      "\n"
     ]
    }
   ],
   "source": [
    "# Model_2 reduces the overfitting issue form model_1\n",
    "# predict on the test dataset with model_2\n",
    "test_pred = np.argmax(model_2.predict(X_test), axis=-1)\n",
    "\n",
    "#Print the classificatio report\n",
    "from sklearn.metrics import classification_report\n",
    "print(classification_report(y_test1, test_pred ))"
   ]
  },
  {
   "cell_type": "code",
   "execution_count": 19,
   "metadata": {
    "id": "e5ZGAuNBqznd"
   },
   "outputs": [],
   "source": [
    "# The classfication report show that class 1, 4, and 0 have the highest \n",
    "# recall that is over 90%. Class 3 has the lowest racall rate of 79%. \n",
    "# The model has overall 87% of accuracy, which is a good model."
   ]
  }
 ],
 "metadata": {
  "accelerator": "GPU",
  "colab": {
   "collapsed_sections": [
    "UJDUoaEj1d6e",
    "8kuXx9Bvu00f"
   ],
   "name": "LC_Project CNN_ SVHN Project - Learner Notebook.ipynb",
   "provenance": [],
   "toc_visible": true
  },
  "kernelspec": {
   "display_name": "Python 3",
   "language": "python",
   "name": "python3"
  },
  "language_info": {
   "codemirror_mode": {
    "name": "ipython",
    "version": 3
   },
   "file_extension": ".py",
   "mimetype": "text/x-python",
   "name": "python",
   "nbconvert_exporter": "python",
   "pygments_lexer": "ipython3",
   "version": "3.8.5"
  }
 },
 "nbformat": 4,
 "nbformat_minor": 1
}
